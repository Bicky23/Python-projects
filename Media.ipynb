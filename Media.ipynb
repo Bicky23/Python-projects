{
 "cells": [
  {
   "cell_type": "code",
   "execution_count": 1,
   "metadata": {
    "collapsed": true
   },
   "outputs": [],
   "source": [
    "class Movie():\n",
    "    def __init__(self, title, storyline, poster_image, youtube_url):\n",
    "        self.title = title\n",
    "        self.storyline = storyline\n",
    "        self.poster_image = poster_image\n",
    "        self.youtube_url = youtube_url"
   ]
  },
  {
   "cell_type": "code",
   "execution_count": 2,
   "metadata": {},
   "outputs": [],
   "source": [
    "toy_story = Movie('Toy Story', 'Anime Film',\n",
    "                  'http://upload.wikimedia.org/wikipedia/en/1/13/Toy_Story_jpg',\n",
    "                 'https://www.youtube.com/watch?v=vwyZH85NQC4')\n"
   ]
  },
  {
   "cell_type": "code",
   "execution_count": 3,
   "metadata": {},
   "outputs": [
    {
     "name": "stdout",
     "output_type": "stream",
     "text": [
      "Toy Story\n"
     ]
    }
   ],
   "source": [
    "print(toy_story.title)"
   ]
  },
  {
   "cell_type": "code",
   "execution_count": 4,
   "metadata": {},
   "outputs": [
    {
     "name": "stdout",
     "output_type": "stream",
     "text": [
      "Toy Story\n"
     ]
    }
   ],
   "source": [
    "print(toy_story.title)"
   ]
  },
  {
   "cell_type": "code",
   "execution_count": 5,
   "metadata": {},
   "outputs": [
    {
     "name": "stdout",
     "output_type": "stream",
     "text": [
      "http://upload.wikimedia.org/wikipedia/en/1/13/Toy_Story_jpg\n"
     ]
    }
   ],
   "source": [
    "print(toy_story.poster_image)"
   ]
  },
  {
   "cell_type": "code",
   "execution_count": 6,
   "metadata": {},
   "outputs": [
    {
     "name": "stdout",
     "output_type": "stream",
     "text": [
      "https://www.youtube.com/watch?v=vwyZH85NQC4\n"
     ]
    }
   ],
   "source": [
    "print(toy_story.youtube_url)"
   ]
  },
  {
   "cell_type": "code",
   "execution_count": null,
   "metadata": {
    "collapsed": true
   },
   "outputs": [],
   "source": []
  }
 ],
 "metadata": {
  "kernelspec": {
   "display_name": "Python [default]",
   "language": "python",
   "name": "python3"
  },
  "language_info": {
   "codemirror_mode": {
    "name": "ipython",
    "version": 3
   },
   "file_extension": ".py",
   "mimetype": "text/x-python",
   "name": "python",
   "nbconvert_exporter": "python",
   "pygments_lexer": "ipython3",
   "version": "3.5.4"
  },
  "widgets": {
   "state": {},
   "version": "1.1.2"
  }
 },
 "nbformat": 4,
 "nbformat_minor": 2
}
